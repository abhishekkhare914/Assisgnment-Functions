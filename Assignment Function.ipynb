{
 "cells": [
  {
   "cell_type": "markdown",
   "id": "5340c999-c829-4a1e-9a52-04539e784a29",
   "metadata": {},
   "source": [
    "Assignment Function"
   ]
  },
  {
   "cell_type": "code",
   "execution_count": 14,
   "id": "8529448b-bd03-47e2-bffb-1ddf51826132",
   "metadata": {},
   "outputs": [],
   "source": [
    "# Theoratical Questions\n",
    "\n",
    "# Ques 1- What is the difference between a function and a method in Python ?\n",
    "# Ans  1- A function is a block of code defined independently, designed to perform a specific task. It can accept arguments and return values,\n",
    "#         but it is not associated with any particular object or class."
   ]
  },
  {
   "cell_type": "code",
   "execution_count": 15,
   "id": "9c0bc26d-d4e4-4bbf-80be-8f54a41cd476",
   "metadata": {},
   "outputs": [],
   "source": [
    "# Ques 2- Explain the concept of function arguments and parameters in Python ?\n",
    "# Ans 2- In Python, functions can accept inputs, which are specified using parameters and arguments. \n",
    "#        Parameters are variables listed inside the parentheses in the function definition, while arguments are the actual values passed to the function when it is called."
   ]
  },
  {
   "cell_type": "code",
   "execution_count": 16,
   "id": "d15e326c-e4bc-46df-b024-0ff08395de31",
   "metadata": {},
   "outputs": [
    {
     "name": "stdout",
     "output_type": "stream",
     "text": [
      "Hello, Alice!\n",
      "8\n",
      "Hello from inner function!\n",
      "120\n",
      "1\n",
      "2\n",
      "3\n",
      "name: John\n",
      "age: 30\n"
     ]
    }
   ],
   "source": [
    "# Ques 3- What are the different ways to define and call a function in Python?\n",
    "\n",
    "# Ans 3-  General function-\n",
    "\n",
    "def greet(name):\n",
    "    \"\"\"This function greets the person passed in as a parameter.\"\"\"\n",
    "    print(f\"Hello, {name}!\")\n",
    "\n",
    "greet(\"Alice\")  # Calling the function\n",
    "\n",
    "\n",
    "# Lambda function-\n",
    "\n",
    "add = lambda x, y: x + y\n",
    "print(add(5, 3))  # Calling the lambda function\n",
    "\n",
    "# nested function-\n",
    "\n",
    "def outer_function(arg):\n",
    "    def inner_function():\n",
    "        print(arg)\n",
    "    inner_function()\n",
    "\n",
    "outer_function(\"Hello from inner function!\")\n",
    "\n",
    "# recursive function-\n",
    "\n",
    "def factorial(n):\n",
    "    if n == 0:\n",
    "        return 1\n",
    "    else:\n",
    "        return n * factorial(n - 1)\n",
    "\n",
    "print(factorial(5))\n",
    "\n",
    "#function with variable arguments-\n",
    "\n",
    "def print_arguments(*args, **kwargs):\n",
    "    for arg in args:\n",
    "        print(arg)\n",
    "    for key, value in kwargs.items():\n",
    "        print(f\"{key}: {value}\")\n",
    "\n",
    "print_arguments(1, 2, 3, name=\"John\", age=30)"
   ]
  },
  {
   "cell_type": "code",
   "execution_count": 17,
   "id": "c7e5ae48-6701-4bc1-b1e3-9ced92ab895f",
   "metadata": {},
   "outputs": [],
   "source": [
    "# Ques 4- What is the purpose of the `return` statement in a Python function ?\n",
    "\n",
    "# Ans 4- The return statement can send a value back to the caller of the function. This value can be of any data type, \n",
    "#        including numbers, strings, lists, or even other functions."
   ]
  },
  {
   "cell_type": "code",
   "execution_count": 18,
   "id": "24234af8-d991-4c59-aa99-67852370256f",
   "metadata": {},
   "outputs": [],
   "source": [
    "# Ques 5- What are iterators in Python and how do they differ from iterables ?\n",
    "\n",
    "# Ans 5- An Iterable is basically an object that any user can iterate over. An Iterator is also an object that helps a user in \n",
    "#        iterating over another object (that is iterable). We can generate an iterator when we pass the object to the iter() method."
   ]
  },
  {
   "cell_type": "code",
   "execution_count": 19,
   "id": "69c5cd1e-1c10-464c-9a83-c2eeed465e4a",
   "metadata": {},
   "outputs": [],
   "source": [
    "# Ques 6-  Explain the concept of generators in Python and how they are defined ?\n",
    "\n",
    "# Ans 6- A Python generator function allows you to declare a function that behaves like an iterator, providing a faster and easier way to create iterators. They can be used on an abstract container of data to turn it into an iterable object \n",
    "#        like lists, dictionaries and strings."
   ]
  },
  {
   "cell_type": "code",
   "execution_count": 20,
   "id": "9d0820d6-abdb-4340-8a8f-8e8e09d03c1a",
   "metadata": {},
   "outputs": [],
   "source": [
    "#  Ques 7- What are the advantages of using generators over regular functions ?\n",
    "#  Ans 7- Generators offer several advantages over regular functions, primarily stemming from their ability \n",
    "#        to produce values on-demand and manage state efficiently. This makes them memory-efficient"
   ]
  },
  {
   "cell_type": "code",
   "execution_count": 21,
   "id": "ef07b6c1-a679-4a0f-88f3-fb63ab246ae1",
   "metadata": {},
   "outputs": [],
   "source": [
    "# Ques 8- What is a lambda function in Python and when is it typically used ?\n",
    "\n",
    "# Ans 8- In Python, a lambda function is a small, anonymous function that can take any number of arguments but can only have one expression. \n",
    "#        It's essentially a shorthand way to define a function that you'll likely only use once."
   ]
  },
  {
   "cell_type": "code",
   "execution_count": 22,
   "id": "5b3c2327-84b3-4e23-b261-9ea9a78247a0",
   "metadata": {},
   "outputs": [],
   "source": [
    "# Ques 9- Explain the purpose and usage of the `map()` function in Python ?\n",
    "\n",
    "# Ans 9- The map() function in Python applies a given function to each item of an iterable (like a list or tuple) \n",
    "#        and returns an iterator that yields the results."
   ]
  },
  {
   "cell_type": "code",
   "execution_count": null,
   "id": "47fe4a1a-5bb0-4284-9112-c838fb538dd1",
   "metadata": {},
   "outputs": [],
   "source": []
  },
  {
   "cell_type": "markdown",
   "id": "a71f2ca6-1986-4dd3-8f09-d00713479ff6",
   "metadata": {},
   "source": [
    "# Ques 10- What is the difference between `map()`, `reduce()`, and `filter()` functions in Python ?\n",
    "\n",
    "# Ans 10- The map(), filter(), and reduce() functions are built-in higher-order functions in Python that operate on iterables\n",
    "#         (like lists, tuples, etc.). They each serve distinct purposes:\n",
    " \n",
    "# map () function:\n",
    "\n",
    "Applies a given function to each item in an iterable and returns a new iterable (map object) containing the results. It transforms each element individually. \n",
    "\n",
    "# filter() function:\n",
    "\n",
    "Creates a new iterable (filter object) containing only the elements from the original iterable for which a given function returns True. It selects elements based on a condition.\n",
    "\n",
    "# reduce() function:\n",
    "\n",
    "Applies a function cumulatively to the items of an iterable, from left to right, so as to reduce the iterable to a single value. It aggregates elements. Note that in Python 3, reduce() is no longer a built-in function and needs to be imported from the functools module. "
   ]
  },
  {
   "cell_type": "code",
   "execution_count": 23,
   "id": "741d4860-0474-4f29-9894-6d5dac2b680f",
   "metadata": {},
   "outputs": [],
   "source": [
    "# Ques 11-  Using pen & Paper write the internal mechanism for sum operation using  reduce function on this given list [47,11,42,13] ?\n",
    "\n",
    "# Ans 11- attached on paper\n",
    "\n"
   ]
  },
  {
   "cell_type": "code",
   "execution_count": 24,
   "id": "ddfacfab-9405-4af8-be63-ee5d96bcb63d",
   "metadata": {},
   "outputs": [
    {
     "name": "stdout",
     "output_type": "stream",
     "text": [
      "12\n"
     ]
    }
   ],
   "source": [
    "# Practical Questions\n",
    "\n",
    "# Ques 1- Write a Python function that takes a list of numbers as input and returns the sum of all even numbers in \n",
    "# the list ?\n",
    "\n",
    "\n",
    "# Ans 1- \n",
    "\n",
    "l=[1,2,3,4,5,6]\n",
    "sum1=0\n",
    "for i in l:\n",
    "    if i%2==0:\n",
    "      sum1=sum1+i  \n",
    "print(sum1)\n"
   ]
  },
  {
   "cell_type": "code",
   "execution_count": 25,
   "id": "4999ee45-945c-4eb2-9185-9a233097859a",
   "metadata": {},
   "outputs": [
    {
     "data": {
      "text/plain": [
       "'erahk'"
      ]
     },
     "execution_count": 25,
     "metadata": {},
     "output_type": "execute_result"
    }
   ],
   "source": [
    "# Ques 2-  Create a Python function that accepts a string and returns the reverse of that string ?\n",
    "\n",
    "# Ans 2-\n",
    "\n",
    "def func(x):\n",
    "    return x [::-1]\n",
    "\n",
    "func (\"khare\")"
   ]
  },
  {
   "cell_type": "code",
   "execution_count": 26,
   "id": "583f3ffa-5540-4ffd-848a-0aec432a501d",
   "metadata": {},
   "outputs": [
    {
     "name": "stdout",
     "output_type": "stream",
     "text": [
      "[1, 4, 9, 16]\n"
     ]
    }
   ],
   "source": [
    "# Ques 3- Implement a Python function that takes a list of integers and returns a new list containing the squares of each number ?\n",
    "\n",
    "# Ans 3- \n",
    "\n",
    "\n",
    "l= []\n",
    "for i in range(1,5):\n",
    "    l.append(i**2)\n",
    "print(l)\n"
   ]
  },
  {
   "cell_type": "code",
   "execution_count": 35,
   "id": "1c4ccb93-2472-4584-99ca-70826833a18b",
   "metadata": {},
   "outputs": [
    {
     "name": "stdin",
     "output_type": "stream",
     "text": [
      "enter a number 1\n"
     ]
    },
    {
     "name": "stdout",
     "output_type": "stream",
     "text": [
      "1 is not prime number\n"
     ]
    }
   ],
   "source": [
    "# Ques 4- Write a Python function that checks if a given number is prime or not from 1 to 200 ?\n",
    "\n",
    "# Ans 4- \n",
    "\n",
    "num= int(input(\"enter a number\"))\n",
    "count=0\n",
    "for i in range(1,num+1):\n",
    "    if num%i==0:\n",
    "        count=count+1\n",
    "if count==2:\n",
    "    print(num, \"is prime number\")\n",
    "else:\n",
    "    print(num, \"is not prime number\")\n"
   ]
  },
  {
   "cell_type": "code",
   "execution_count": 7,
   "id": "7ddfe0e2-86c1-491a-a7a1-808f1a534161",
   "metadata": {},
   "outputs": [
    {
     "data": {
      "text/plain": [
       "1"
      ]
     },
     "execution_count": 7,
     "metadata": {},
     "output_type": "execute_result"
    }
   ],
   "source": [
    "# Ques 5- Create an iterator class in Python that generates the Fibonacci sequence up to a specified number of terms ?\n",
    " \n",
    "# Ans 5- \n",
    "\n",
    "def fib(n):\n",
    "    a=0\n",
    "    b=1\n",
    "    for i in range(n):\n",
    "        yield a\n",
    "        a,b=b,a+b\n",
    "\n",
    "fib(100)\n",
    "f= fib(100)\n",
    "next(f)\n",
    "next(f)"
   ]
  },
  {
   "cell_type": "code",
   "execution_count": 14,
   "id": "a49e5b96-f7d7-4c4c-8e28-040f4acc8091",
   "metadata": {},
   "outputs": [
    {
     "data": {
      "text/plain": [
       "4"
      ]
     },
     "execution_count": 14,
     "metadata": {},
     "output_type": "execute_result"
    }
   ],
   "source": [
    "# Ques 6- Write a generator function in Python that yields the powers of 2 up to a given exponent ?\n",
    "\n",
    "# Ans 6- \n",
    "\n",
    "def sq_num(n):\n",
    "    for i in range(n):\n",
    "        yield i**2\n",
    "sq_num(10)\n",
    "gen= sq_num(10)\n",
    "next(gen)\n",
    "next(gen)\n",
    "next(gen)"
   ]
  },
  {
   "cell_type": "code",
   "execution_count": 30,
   "id": "42ff2e65-ac9c-46e0-920d-ea301c5a8cd8",
   "metadata": {},
   "outputs": [],
   "source": [
    "# Ques 7- Implement a generator function that reads a file line by line and yields each line as a string ?\n",
    "\n",
    "# Ans 7- \n",
    "\n"
   ]
  },
  {
   "cell_type": "code",
   "execution_count": 79,
   "id": "f3f0e1e9-4ad1-4821-9685-a5d35bb584b7",
   "metadata": {},
   "outputs": [
    {
     "name": "stdout",
     "output_type": "stream",
     "text": [
      "[('ajay', 1), ('math', 2), ('python', 3), ('data science', 4)]\n"
     ]
    }
   ],
   "source": [
    "# Ques 8- Use a lambda function in Python to sort a list of tuples based on the second element of each tuple ?\n",
    "\n",
    "# Ans 8- \n",
    "\n",
    "subject=[(\"python\",3),(\"data science\",4),(\"ajay\",1),(\"math\",2)]\n",
    "\n",
    "sorted_tuple=(sorted(subject,key=lambda x:x[1]))\n",
    "\n",
    "print(sorted_tuple)"
   ]
  },
  {
   "cell_type": "code",
   "execution_count": 3,
   "id": "13880ab4-9053-4503-bc5c-6a70becabd4e",
   "metadata": {},
   "outputs": [
    {
     "name": "stdout",
     "output_type": "stream",
     "text": [
      "[50.0, 122.0, 140.0, 41.0]\n"
     ]
    }
   ],
   "source": [
    "# Ques 9-  Write a Python program that uses `map()` to convert a list of temperatures from Celsius to Fahrenheit ?\n",
    "\n",
    "# Ans 9-\n",
    "\n",
    "celcius= [10,50,60,5]\n",
    "\n",
    "farenhite= [((temp*9/5)+32)\n",
    "            for temp in celcius]\n",
    "print (farenhite)\n"
   ]
  },
  {
   "cell_type": "code",
   "execution_count": 24,
   "id": "d354e05d-3123-41ce-a5b3-ee2cf32576ea",
   "metadata": {},
   "outputs": [
    {
     "name": "stdout",
     "output_type": "stream",
     "text": [
      "['b', 'h', 's', 'h', 'k', ' ', 'k', 'h', 'r']\n"
     ]
    }
   ],
   "source": [
    "# Ques 10- Create a Pyda thon program that uses `filter()` to remove all the vowels from a given string ?\n",
    "\n",
    "# Ans 10-\n",
    "\n",
    "string= \"abhishek khare\"\n",
    "\n",
    "def check_vowels(x):\n",
    "   vowels = [\"a\",\"e\",\"i\",\"o\",\"u\"]\n",
    "   return x not in vowels\n",
    "b= list(filter(check_vowels,string))\n",
    "\n",
    "print(b)\n",
    "\n"
   ]
  },
  {
   "cell_type": "code",
   "execution_count": 11,
   "id": "d4f706bd-038c-4014-868b-50ef3712e374",
   "metadata": {},
   "outputs": [
    {
     "name": "stdout",
     "output_type": "stream",
     "text": [
      "[(1, 163.8), (2, 284.0), (3, 108.85000000000001), (4, 84.97)]\n"
     ]
    }
   ],
   "source": [
    "# Ques 11- Write a Python program, which returns a list with 2-tuples. Each tuple consists of the order number and the \n",
    "#          product of the price per item and the quantity. The product should be increased by 10,- € if the value of the \n",
    "#          order is smaller than 100,00 €. Write a Python program using lambda and map ?\n",
    "\n",
    "# Ans 11- \n",
    "\n",
    "\n",
    "# Sample order data: (order_number, price_per_item, quantity)\n",
    "\n",
    "orders=  [\n",
    "    (1,40.95,4), # 40.95*4-- no surcharge--order 1\n",
    "    (2,56.80,5), # 56.80*5-- no surcharge-- order 2\n",
    "    (3,32.95,3), # 32.95*3--+10 =108.85-- order 3\n",
    "    (4,24.99,3)] # 24.99*3--+10 =84.82-- order 4\n",
    "\n",
    "\n",
    "# Use map and lambda to calculate the required result\n",
    "\n",
    "result = list(map(lambda order: (\n",
    "    order[0],order[1] * order[2] if order[1] * order[2] >= 100 else order[1] * order[2] + 10\n",
    "), orders))\n",
    "\n",
    "# Print the result\n",
    "print(result)\n"
   ]
  },
  {
   "cell_type": "code",
   "execution_count": null,
   "id": "bb7c6c0d-ee9f-4983-9c00-19790c36eeba",
   "metadata": {},
   "outputs": [],
   "source": []
  }
 ],
 "metadata": {
  "kernelspec": {
   "display_name": "Python 3 (ipykernel)",
   "language": "python",
   "name": "python3"
  },
  "language_info": {
   "codemirror_mode": {
    "name": "ipython",
    "version": 3
   },
   "file_extension": ".py",
   "mimetype": "text/x-python",
   "name": "python",
   "nbconvert_exporter": "python",
   "pygments_lexer": "ipython3",
   "version": "3.13.3"
  }
 },
 "nbformat": 4,
 "nbformat_minor": 5
}
